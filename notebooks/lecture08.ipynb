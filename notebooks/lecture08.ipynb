{
 "cells": [
  {
   "cell_type": "markdown",
   "metadata": {},
   "source": [
    "# ウェブサービスにおけるデータサイエンス実践 第8回\n",
    "\n",
    "## 実データを用いた機械学習実践"
   ]
  },
  {
   "cell_type": "markdown",
   "metadata": {},
   "source": [
    "## 今回の内容\n",
    "\n",
    "- 前回: 機械学習しやすいデータでの教師あり学習の演習\n",
    "- 今回: ログデータからの教師あり学習\n",
    "\n",
    "-  クリック履歴からの性別推定を例とする\n",
    "\n",
    "\n",
    "## 扱うトピック\n",
    "- ログの整形\n",
    "- 次元削減\n",
    "- ダウンサンプリング\n",
    "- その他細かいテクニック"
   ]
  },
  {
   "cell_type": "code",
   "execution_count": 2,
   "metadata": {},
   "outputs": [],
   "source": [
    "%matplotlib inline\n",
    "\n",
    "import sqlite3\n",
    "import pandas\n",
    "\n",
    "import numpy\n",
    "\n",
    "from sklearn import datasets\n",
    "from sklearn.decomposition import NMF\n",
    "from sklearn.model_selection import (\n",
    "    cross_validate,\n",
    "    GridSearchCV,\n",
    "    train_test_split\n",
    ")\n",
    "from sklearn.svm import SVC\n",
    "from sklearn.linear_model import LogisticRegression\n",
    "from sklearn.metrics import classification_report\n",
    "import joblib"
   ]
  },
  {
   "cell_type": "markdown",
   "metadata": {},
   "source": [
    "# ログからトレーニングデータを作成する\n",
    "\n",
    "## 必要なもの\n",
    "\n",
    "- クリック履歴\n",
    "- ユーザの性別情報"
   ]
  },
  {
   "cell_type": "code",
   "execution_count": 3,
   "metadata": {},
   "outputs": [],
   "source": [
    "sqlite_conn = sqlite3.connect('../resources/waseda.db')"
   ]
  },
  {
   "cell_type": "code",
   "execution_count": 4,
   "metadata": {},
   "outputs": [],
   "source": [
    "sql = \"\"\"\n",
    "SELECT\n",
    "    DISTINCT\n",
    "    user_id,\n",
    "    article_id\n",
    "FROM\n",
    "    clicks\n",
    "\"\"\"\n",
    "df_clicks = pandas.read_sql(sql, sqlite_conn)"
   ]
  },
  {
   "cell_type": "markdown",
   "metadata": {},
   "source": [
    "# ログの整形\n",
    "\n",
    "- このままだと、扱えないのでクリック履歴をベクトル表現で扱うことを考える\n",
    "- 記事が次元を表し、クリックした記事が1、クリックしていない記事が0になるベクトル\n",
    "- Pivotテーブルを作れば解決しそう\n",
    "- Pivotにはvalueが必要なので、value=1にして、Pivotしたあと、fillna(0)でできる"
   ]
  },
  {
   "cell_type": "code",
   "execution_count": 5,
   "metadata": {},
   "outputs": [],
   "source": [
    "df_clicks['value'] = 1"
   ]
  },
  {
   "cell_type": "code",
   "execution_count": 6,
   "metadata": {},
   "outputs": [],
   "source": [
    "df_matrix = df_clicks.pivot(index='user_id', columns='article_id', values='value')"
   ]
  },
  {
   "cell_type": "code",
   "execution_count": 7,
   "metadata": {},
   "outputs": [],
   "source": [
    "df_matrix = df_matrix.fillna(0).reset_index()"
   ]
  },
  {
   "cell_type": "code",
   "execution_count": 8,
   "metadata": {},
   "outputs": [
    {
     "data": {
      "text/html": [
       "<div>\n",
       "<style scoped>\n",
       "    .dataframe tbody tr th:only-of-type {\n",
       "        vertical-align: middle;\n",
       "    }\n",
       "\n",
       "    .dataframe tbody tr th {\n",
       "        vertical-align: top;\n",
       "    }\n",
       "\n",
       "    .dataframe thead th {\n",
       "        text-align: right;\n",
       "    }\n",
       "</style>\n",
       "<table border=\"1\" class=\"dataframe\">\n",
       "  <thead>\n",
       "    <tr style=\"text-align: right;\">\n",
       "      <th>article_id</th>\n",
       "      <th>user_id</th>\n",
       "      <th>0</th>\n",
       "      <th>1</th>\n",
       "      <th>2</th>\n",
       "      <th>3</th>\n",
       "      <th>4</th>\n",
       "      <th>5</th>\n",
       "      <th>6</th>\n",
       "      <th>7</th>\n",
       "      <th>8</th>\n",
       "      <th>...</th>\n",
       "      <th>26445</th>\n",
       "      <th>26446</th>\n",
       "      <th>26447</th>\n",
       "      <th>26448</th>\n",
       "      <th>26449</th>\n",
       "      <th>26450</th>\n",
       "      <th>26451</th>\n",
       "      <th>26452</th>\n",
       "      <th>26453</th>\n",
       "      <th>26454</th>\n",
       "    </tr>\n",
       "  </thead>\n",
       "  <tbody>\n",
       "    <tr>\n",
       "      <th>0</th>\n",
       "      <td>1</td>\n",
       "      <td>0.0</td>\n",
       "      <td>0.0</td>\n",
       "      <td>0.0</td>\n",
       "      <td>0.0</td>\n",
       "      <td>0.0</td>\n",
       "      <td>0.0</td>\n",
       "      <td>0.0</td>\n",
       "      <td>0.0</td>\n",
       "      <td>0.0</td>\n",
       "      <td>...</td>\n",
       "      <td>0.0</td>\n",
       "      <td>0.0</td>\n",
       "      <td>0.0</td>\n",
       "      <td>0.0</td>\n",
       "      <td>0.0</td>\n",
       "      <td>0.0</td>\n",
       "      <td>0.0</td>\n",
       "      <td>0.0</td>\n",
       "      <td>0.0</td>\n",
       "      <td>0.0</td>\n",
       "    </tr>\n",
       "    <tr>\n",
       "      <th>1</th>\n",
       "      <td>2</td>\n",
       "      <td>0.0</td>\n",
       "      <td>0.0</td>\n",
       "      <td>0.0</td>\n",
       "      <td>0.0</td>\n",
       "      <td>0.0</td>\n",
       "      <td>0.0</td>\n",
       "      <td>0.0</td>\n",
       "      <td>0.0</td>\n",
       "      <td>0.0</td>\n",
       "      <td>...</td>\n",
       "      <td>0.0</td>\n",
       "      <td>0.0</td>\n",
       "      <td>0.0</td>\n",
       "      <td>0.0</td>\n",
       "      <td>0.0</td>\n",
       "      <td>0.0</td>\n",
       "      <td>0.0</td>\n",
       "      <td>0.0</td>\n",
       "      <td>0.0</td>\n",
       "      <td>0.0</td>\n",
       "    </tr>\n",
       "    <tr>\n",
       "      <th>2</th>\n",
       "      <td>3</td>\n",
       "      <td>0.0</td>\n",
       "      <td>0.0</td>\n",
       "      <td>0.0</td>\n",
       "      <td>0.0</td>\n",
       "      <td>0.0</td>\n",
       "      <td>0.0</td>\n",
       "      <td>0.0</td>\n",
       "      <td>0.0</td>\n",
       "      <td>0.0</td>\n",
       "      <td>...</td>\n",
       "      <td>0.0</td>\n",
       "      <td>0.0</td>\n",
       "      <td>0.0</td>\n",
       "      <td>0.0</td>\n",
       "      <td>0.0</td>\n",
       "      <td>0.0</td>\n",
       "      <td>0.0</td>\n",
       "      <td>0.0</td>\n",
       "      <td>0.0</td>\n",
       "      <td>0.0</td>\n",
       "    </tr>\n",
       "    <tr>\n",
       "      <th>3</th>\n",
       "      <td>4</td>\n",
       "      <td>0.0</td>\n",
       "      <td>0.0</td>\n",
       "      <td>0.0</td>\n",
       "      <td>0.0</td>\n",
       "      <td>0.0</td>\n",
       "      <td>0.0</td>\n",
       "      <td>0.0</td>\n",
       "      <td>0.0</td>\n",
       "      <td>0.0</td>\n",
       "      <td>...</td>\n",
       "      <td>0.0</td>\n",
       "      <td>0.0</td>\n",
       "      <td>0.0</td>\n",
       "      <td>0.0</td>\n",
       "      <td>0.0</td>\n",
       "      <td>0.0</td>\n",
       "      <td>0.0</td>\n",
       "      <td>0.0</td>\n",
       "      <td>0.0</td>\n",
       "      <td>0.0</td>\n",
       "    </tr>\n",
       "    <tr>\n",
       "      <th>4</th>\n",
       "      <td>5</td>\n",
       "      <td>0.0</td>\n",
       "      <td>0.0</td>\n",
       "      <td>0.0</td>\n",
       "      <td>0.0</td>\n",
       "      <td>0.0</td>\n",
       "      <td>0.0</td>\n",
       "      <td>0.0</td>\n",
       "      <td>0.0</td>\n",
       "      <td>0.0</td>\n",
       "      <td>...</td>\n",
       "      <td>0.0</td>\n",
       "      <td>0.0</td>\n",
       "      <td>0.0</td>\n",
       "      <td>0.0</td>\n",
       "      <td>0.0</td>\n",
       "      <td>0.0</td>\n",
       "      <td>0.0</td>\n",
       "      <td>0.0</td>\n",
       "      <td>0.0</td>\n",
       "      <td>0.0</td>\n",
       "    </tr>\n",
       "  </tbody>\n",
       "</table>\n",
       "<p>5 rows × 26456 columns</p>\n",
       "</div>"
      ],
      "text/plain": [
       "article_id  user_id    0    1    2    3    4    5    6    7    8  ...  26445  \\\n",
       "0                 1  0.0  0.0  0.0  0.0  0.0  0.0  0.0  0.0  0.0  ...    0.0   \n",
       "1                 2  0.0  0.0  0.0  0.0  0.0  0.0  0.0  0.0  0.0  ...    0.0   \n",
       "2                 3  0.0  0.0  0.0  0.0  0.0  0.0  0.0  0.0  0.0  ...    0.0   \n",
       "3                 4  0.0  0.0  0.0  0.0  0.0  0.0  0.0  0.0  0.0  ...    0.0   \n",
       "4                 5  0.0  0.0  0.0  0.0  0.0  0.0  0.0  0.0  0.0  ...    0.0   \n",
       "\n",
       "article_id  26446  26447  26448  26449  26450  26451  26452  26453  26454  \n",
       "0             0.0    0.0    0.0    0.0    0.0    0.0    0.0    0.0    0.0  \n",
       "1             0.0    0.0    0.0    0.0    0.0    0.0    0.0    0.0    0.0  \n",
       "2             0.0    0.0    0.0    0.0    0.0    0.0    0.0    0.0    0.0  \n",
       "3             0.0    0.0    0.0    0.0    0.0    0.0    0.0    0.0    0.0  \n",
       "4             0.0    0.0    0.0    0.0    0.0    0.0    0.0    0.0    0.0  \n",
       "\n",
       "[5 rows x 26456 columns]"
      ]
     },
     "execution_count": 8,
     "metadata": {},
     "output_type": "execute_result"
    }
   ],
   "source": [
    "df_matrix.head()"
   ]
  },
  {
   "cell_type": "code",
   "execution_count": 9,
   "metadata": {},
   "outputs": [],
   "source": [
    "sql = \"\"\"\n",
    "SELECT\n",
    "    user_id,\n",
    "    gender_id\n",
    "FROM\n",
    "    users\n",
    "WHERE\n",
    "    gender_id IS NOT NULL\n",
    "\"\"\"\n",
    "df_users = pandas.read_sql(sql, sqlite_conn)"
   ]
  },
  {
   "cell_type": "code",
   "execution_count": 10,
   "metadata": {},
   "outputs": [],
   "source": [
    "df = df_matrix.merge(df_users, on='user_id')"
   ]
  },
  {
   "cell_type": "markdown",
   "metadata": {},
   "source": [
    "# データの作成\n",
    "\n",
    "- user_idは除去\n",
    "- data (x)とlabel (y)を分ける\n",
    "- DataFrameからvaluesでarrayを取り出す"
   ]
  },
  {
   "cell_type": "code",
   "execution_count": 11,
   "metadata": {},
   "outputs": [],
   "source": [
    "x = df[df.columns[1:-1]].values\n",
    "y = df['gender_id'].values"
   ]
  },
  {
   "cell_type": "markdown",
   "metadata": {},
   "source": [
    "# 学習してみる\n",
    "\n",
    "- ひとまずtrain, test splitしてロジスティクス回帰で学習"
   ]
  },
  {
   "cell_type": "code",
   "execution_count": 12,
   "metadata": {},
   "outputs": [],
   "source": [
    "train_x, test_x, train_y, test_y = train_test_split(x, y, test_size=0.2, random_state=23)"
   ]
  },
  {
   "cell_type": "code",
   "execution_count": 13,
   "metadata": {},
   "outputs": [
    {
     "data": {
      "text/plain": [
       "0.4294465106103697"
      ]
     },
     "execution_count": 13,
     "metadata": {},
     "output_type": "execute_result"
    }
   ],
   "source": [
    "sum(train_y)/len(train_y)"
   ]
  },
  {
   "cell_type": "code",
   "execution_count": 14,
   "metadata": {},
   "outputs": [],
   "source": [
    "clf_lr = LogisticRegression(solver='lbfgs')"
   ]
  },
  {
   "cell_type": "code",
   "execution_count": 15,
   "metadata": {},
   "outputs": [
    {
     "data": {
      "text/plain": [
       "{'fit_time': array([5.85385513, 5.15660596, 4.80414319]),\n",
       " 'score_time': array([0.0857358 , 0.07206821, 0.07928967]),\n",
       " 'test_accuracy': array([0.66338583, 0.6496063 , 0.65856861]),\n",
       " 'test_precision': array([0.6284153 , 0.61567878, 0.62593985]),\n",
       " 'test_recall': array([0.52752294, 0.49160305, 0.50917431])}"
      ]
     },
     "execution_count": 15,
     "metadata": {},
     "output_type": "execute_result"
    }
   ],
   "source": [
    "cross_validate(clf_lr, train_x, train_y, cv=3, scoring=['accuracy', 'precision', 'recall'])"
   ]
  },
  {
   "cell_type": "code",
   "execution_count": 16,
   "metadata": {},
   "outputs": [
    {
     "data": {
      "text/plain": [
       "LogisticRegression()"
      ]
     },
     "execution_count": 16,
     "metadata": {},
     "output_type": "execute_result"
    }
   ],
   "source": [
    "clf_lr.fit(train_x, train_y)"
   ]
  },
  {
   "cell_type": "code",
   "execution_count": 17,
   "metadata": {},
   "outputs": [
    {
     "name": "stdout",
     "output_type": "stream",
     "text": [
      "              precision    recall  f1-score   support\n",
      "\n",
      "         0.0       0.78      0.66      0.72       753\n",
      "         1.0       0.50      0.65      0.56       390\n",
      "\n",
      "    accuracy                           0.66      1143\n",
      "   macro avg       0.64      0.65      0.64      1143\n",
      "weighted avg       0.69      0.66      0.66      1143\n",
      "\n"
     ]
    }
   ],
   "source": [
    "print(classification_report(clf_lr.predict(test_x), test_y))"
   ]
  },
  {
   "cell_type": "code",
   "execution_count": 19,
   "metadata": {},
   "outputs": [
    {
     "data": {
      "text/plain": [
       "['clf_lr.joblib']"
      ]
     },
     "execution_count": 19,
     "metadata": {},
     "output_type": "execute_result"
    }
   ],
   "source": [
    "joblib.dump(clf_lr, 'clf_lr.joblib')"
   ]
  },
  {
   "cell_type": "code",
   "execution_count": 20,
   "metadata": {},
   "outputs": [],
   "source": [
    "clf_lr_decom = LogisticRegression(solver='lbfgs')"
   ]
  },
  {
   "cell_type": "markdown",
   "metadata": {},
   "source": [
    "# 次元削減をする\n",
    "\n",
    "- 次元削減 => 行列を元の特徴を残したまま小さなものにする\n",
    "- 代表的な手法: PCA, SVD, LSI, NMFなど\n",
    "- 疎なデータを扱うときに特に有効であることが多い => 次元数が多いと次元の呪いが発生する\n"
   ]
  },
  {
   "cell_type": "code",
   "execution_count": 21,
   "metadata": {},
   "outputs": [],
   "source": [
    "model = NMF(n_components=300)"
   ]
  },
  {
   "cell_type": "code",
   "execution_count": 22,
   "metadata": {},
   "outputs": [],
   "source": [
    "x_decom = model.fit_transform(x)"
   ]
  },
  {
   "cell_type": "code",
   "execution_count": 23,
   "metadata": {},
   "outputs": [],
   "source": [
    "train_x_decom, test_x_decom, train_y_decom, test_y_decom = train_test_split(x_decom, y, test_size=0.2, random_state=23)"
   ]
  },
  {
   "cell_type": "code",
   "execution_count": 24,
   "metadata": {},
   "outputs": [],
   "source": [
    "clf_lr_decom = LogisticRegression(solver='lbfgs')"
   ]
  },
  {
   "cell_type": "code",
   "execution_count": 25,
   "metadata": {},
   "outputs": [
    {
     "data": {
      "text/plain": [
       "{'fit_time': array([0.10808778, 0.06663299, 0.05255103]),\n",
       " 'score_time': array([0.00905585, 0.00542498, 0.00459599]),\n",
       " 'test_accuracy': array([0.59278689, 0.57452397, 0.57518056]),\n",
       " 'test_precision': array([0.69767442, 0.52777778, 0.53535354]),\n",
       " 'test_recall': array([0.09160305, 0.08715596, 0.08103976])}"
      ]
     },
     "execution_count": 25,
     "metadata": {},
     "output_type": "execute_result"
    }
   ],
   "source": [
    "cross_validate(clf_lr_decom, train_x_decom, train_y_decom, cv=3, scoring=['accuracy', 'precision', 'recall'])"
   ]
  },
  {
   "cell_type": "code",
   "execution_count": 26,
   "metadata": {},
   "outputs": [
    {
     "data": {
      "text/plain": [
       "LogisticRegression(C=1.0, class_weight=None, dual=False, fit_intercept=True,\n",
       "                   intercept_scaling=1, l1_ratio=None, max_iter=100,\n",
       "                   multi_class='warn', n_jobs=None, penalty='l2',\n",
       "                   random_state=None, solver='lbfgs', tol=0.0001, verbose=0,\n",
       "                   warm_start=False)"
      ]
     },
     "execution_count": 26,
     "metadata": {},
     "output_type": "execute_result"
    }
   ],
   "source": [
    "clf_lr_decom.fit(train_x_decom, train_y_decom)"
   ]
  },
  {
   "cell_type": "code",
   "execution_count": 27,
   "metadata": {},
   "outputs": [
    {
     "name": "stdout",
     "output_type": "stream",
     "text": [
      "              precision    recall  f1-score   support\n",
      "\n",
      "         0.0       0.96      0.58      0.72      1067\n",
      "         1.0       0.10      0.70      0.18        76\n",
      "\n",
      "    accuracy                           0.58      1143\n",
      "   macro avg       0.53      0.64      0.45      1143\n",
      "weighted avg       0.91      0.58      0.68      1143\n",
      "\n"
     ]
    }
   ],
   "source": [
    "print(classification_report(clf_lr_decom.predict(test_x_decom), test_y_decom))"
   ]
  },
  {
   "cell_type": "code",
   "execution_count": 28,
   "metadata": {},
   "outputs": [
    {
     "data": {
      "text/plain": [
       "['nmf.joblib']"
      ]
     },
     "execution_count": 28,
     "metadata": {},
     "output_type": "execute_result"
    }
   ],
   "source": [
    "joblib.dump(model, 'nmf.joblib')"
   ]
  },
  {
   "cell_type": "code",
   "execution_count": 37,
   "metadata": {},
   "outputs": [
    {
     "data": {
      "text/plain": [
       "['clf_lr_decom.joblib']"
      ]
     },
     "execution_count": 37,
     "metadata": {},
     "output_type": "execute_result"
    }
   ],
   "source": [
    "joblib.dump(clf_lr_decom, 'clf_lr_decom.joblib')"
   ]
  },
  {
   "cell_type": "markdown",
   "metadata": {},
   "source": [
    "- 次元削減によって精度が下がった\n",
    "- 特に、男女の予測の偏りが強くなった\n",
    "- trainingでrecallが低くなっているので、Recallが高くなるようにSVCでパラメータサーチしてみる"
   ]
  },
  {
   "cell_type": "code",
   "execution_count": 29,
   "metadata": {},
   "outputs": [],
   "source": [
    "parameters = [\n",
    "    {'kernel': ['rbf'], 'gamma': [1e-3, 1e-4], 'C': [1, 10, 100, 1000]},\n",
    "    {'kernel': ['linear'], 'C': [1, 10, 100, 1000]}\n",
    "]"
   ]
  },
  {
   "cell_type": "code",
   "execution_count": 31,
   "metadata": {},
   "outputs": [],
   "source": [
    "clf_svc_decom = GridSearchCV( SVC() , parameters, cv=3, scoring='recall_macro')"
   ]
  },
  {
   "cell_type": "code",
   "execution_count": 32,
   "metadata": {},
   "outputs": [
    {
     "data": {
      "text/plain": [
       "GridSearchCV(cv=3, error_score='raise-deprecating',\n",
       "             estimator=SVC(C=1.0, cache_size=200, class_weight=None, coef0=0.0,\n",
       "                           decision_function_shape='ovr', degree=3,\n",
       "                           gamma='auto_deprecated', kernel='rbf', max_iter=-1,\n",
       "                           probability=False, random_state=None, shrinking=True,\n",
       "                           tol=0.001, verbose=False),\n",
       "             iid='warn', n_jobs=None,\n",
       "             param_grid=[{'C': [1, 10, 100, 1000], 'gamma': [0.001, 0.0001],\n",
       "                          'kernel': ['rbf']},\n",
       "                         {'C': [1, 10, 100, 1000], 'kernel': ['linear']}],\n",
       "             pre_dispatch='2*n_jobs', refit=True, return_train_score=False,\n",
       "             scoring='recall_macro', verbose=0)"
      ]
     },
     "execution_count": 32,
     "metadata": {},
     "output_type": "execute_result"
    }
   ],
   "source": [
    "clf_svc_decom.fit(train_x_decom, train_y_decom)"
   ]
  },
  {
   "cell_type": "code",
   "execution_count": 33,
   "metadata": {},
   "outputs": [
    {
     "data": {
      "text/plain": [
       "{'C': 1000, 'kernel': 'linear'}"
      ]
     },
     "execution_count": 33,
     "metadata": {},
     "output_type": "execute_result"
    }
   ],
   "source": [
    "clf_svc_decom.best_params_"
   ]
  },
  {
   "cell_type": "code",
   "execution_count": 35,
   "metadata": {},
   "outputs": [
    {
     "name": "stdout",
     "output_type": "stream",
     "text": [
      "              precision    recall  f1-score   support\n",
      "\n",
      "         0.0       0.91      0.66      0.76      3591\n",
      "         1.0       0.37      0.75      0.50       980\n",
      "\n",
      "    accuracy                           0.68      4571\n",
      "   macro avg       0.64      0.70      0.63      4571\n",
      "weighted avg       0.79      0.68      0.71      4571\n",
      "\n"
     ]
    }
   ],
   "source": [
    "print(classification_report(clf_svc_decom.predict(train_x_decom), train_y_decom))"
   ]
  },
  {
   "cell_type": "code",
   "execution_count": 39,
   "metadata": {},
   "outputs": [
    {
     "name": "stdout",
     "output_type": "stream",
     "text": [
      "              precision    recall  f1-score   support\n",
      "\n",
      "         0.0       0.89      0.61      0.72       927\n",
      "         1.0       0.28      0.67      0.40       216\n",
      "\n",
      "    accuracy                           0.62      1143\n",
      "   macro avg       0.59      0.64      0.56      1143\n",
      "weighted avg       0.77      0.62      0.66      1143\n",
      "\n"
     ]
    }
   ],
   "source": [
    "print(classification_report(clf_svc_decom.predict(test_x_decom), test_y_decom))"
   ]
  },
  {
   "cell_type": "code",
   "execution_count": 54,
   "metadata": {},
   "outputs": [
    {
     "data": {
      "text/plain": [
       "['clf_svc_decom.joblib']"
      ]
     },
     "execution_count": 54,
     "metadata": {},
     "output_type": "execute_result"
    }
   ],
   "source": [
    "joblib.dump(clf_svc_decom, 'clf_svc_decom.joblib')"
   ]
  },
  {
   "cell_type": "markdown",
   "metadata": {},
   "source": [
    "# ダウンサンプリングする\n",
    "\n",
    "- 男性に偏ったのは、訓練データに男性のデータが多いからと考えられる\n",
    "- 訓練データ内の男性と女性のデータがおんなじになるようにする"
   ]
  },
  {
   "cell_type": "code",
   "execution_count": 46,
   "metadata": {},
   "outputs": [],
   "source": [
    "df_train_decom = pandas.DataFrame(train_x_decom)"
   ]
  },
  {
   "cell_type": "code",
   "execution_count": 47,
   "metadata": {},
   "outputs": [],
   "source": [
    "df_train_decom['gender_id'] = train_y_decom"
   ]
  },
  {
   "cell_type": "code",
   "execution_count": 48,
   "metadata": {},
   "outputs": [],
   "source": [
    "df_train_decom_male = df_train_decom[df_train_decom['gender_id'] == 0]\n",
    "df_train_decom_female = df_train_decom[df_train_decom['gender_id'] == 1]"
   ]
  },
  {
   "cell_type": "code",
   "execution_count": 50,
   "metadata": {},
   "outputs": [],
   "source": [
    "df_train_decom_male = df_train_decom_male.take(numpy.random.permutation(len(df_train_decom_male)))\n",
    "df_train_decom_male = df_train_decom_male.iloc[:len(df_train_decom_female), :].reset_index(drop = True)"
   ]
  },
  {
   "cell_type": "code",
   "execution_count": 51,
   "metadata": {},
   "outputs": [],
   "source": [
    "df_train_decom_ds = pandas.concat([df_train_decom_male, df_train_decom_female])"
   ]
  },
  {
   "cell_type": "code",
   "execution_count": 52,
   "metadata": {},
   "outputs": [],
   "source": [
    "train_x_decom_ds = df_train_decom_ds[df_train_decom_ds.columns[:-1]].values\n",
    "train_y_decom_ds = df_train_decom_ds['gender_id'].values"
   ]
  },
  {
   "cell_type": "code",
   "execution_count": 53,
   "metadata": {},
   "outputs": [],
   "source": [
    "clf_lr_decom_ds = LogisticRegression(solver='lbfgs')"
   ]
  },
  {
   "cell_type": "code",
   "execution_count": 55,
   "metadata": {},
   "outputs": [
    {
     "data": {
      "text/plain": [
       "{'fit_time': array([0.09034324, 0.06142783, 0.05270076]),\n",
       " 'score_time': array([0.00762963, 0.00433731, 0.00418115]),\n",
       " 'test_accuracy': array([0.54503817, 0.55657492, 0.55351682]),\n",
       " 'test_precision': array([0.53134963, 0.53830228, 0.53564155]),\n",
       " 'test_recall': array([0.76335878, 0.79510703, 0.80428135])}"
      ]
     },
     "execution_count": 55,
     "metadata": {},
     "output_type": "execute_result"
    }
   ],
   "source": [
    "cross_validate(clf_lr_decom_ds, train_x_decom_ds, train_y_decom_ds, cv=3, scoring=['accuracy', 'precision', 'recall'])"
   ]
  },
  {
   "cell_type": "code",
   "execution_count": 56,
   "metadata": {},
   "outputs": [
    {
     "data": {
      "text/plain": [
       "LogisticRegression(C=1.0, class_weight=None, dual=False, fit_intercept=True,\n",
       "                   intercept_scaling=1, l1_ratio=None, max_iter=100,\n",
       "                   multi_class='warn', n_jobs=None, penalty='l2',\n",
       "                   random_state=None, solver='lbfgs', tol=0.0001, verbose=0,\n",
       "                   warm_start=False)"
      ]
     },
     "execution_count": 56,
     "metadata": {},
     "output_type": "execute_result"
    }
   ],
   "source": [
    "clf_lr_decom_ds.fit(train_x_decom_ds, train_y_decom_ds)"
   ]
  },
  {
   "cell_type": "code",
   "execution_count": 57,
   "metadata": {},
   "outputs": [
    {
     "name": "stdout",
     "output_type": "stream",
     "text": [
      "              precision    recall  f1-score   support\n",
      "\n",
      "         0.0       0.39      0.69      0.50       364\n",
      "         1.0       0.77      0.50      0.61       779\n",
      "\n",
      "    accuracy                           0.56      1143\n",
      "   macro avg       0.58      0.60      0.55      1143\n",
      "weighted avg       0.65      0.56      0.57      1143\n",
      "\n"
     ]
    }
   ],
   "source": [
    "print(classification_report(clf_lr_decom_ds.predict(test_x_decom), test_y_decom))"
   ]
  },
  {
   "cell_type": "code",
   "execution_count": 58,
   "metadata": {},
   "outputs": [
    {
     "data": {
      "text/plain": [
       "(3926, 300)"
      ]
     },
     "execution_count": 58,
     "metadata": {},
     "output_type": "execute_result"
    }
   ],
   "source": [
    "train_x_decom_ds.shape"
   ]
  },
  {
   "cell_type": "code",
   "execution_count": 59,
   "metadata": {},
   "outputs": [],
   "source": [
    "clf_svc_decom_ds = GridSearchCV( SVC() , parameters, cv=3, scoring='recall_macro')"
   ]
  },
  {
   "cell_type": "code",
   "execution_count": 60,
   "metadata": {},
   "outputs": [
    {
     "data": {
      "text/plain": [
       "GridSearchCV(cv=3, error_score='raise-deprecating',\n",
       "             estimator=SVC(C=1.0, cache_size=200, class_weight=None, coef0=0.0,\n",
       "                           decision_function_shape='ovr', degree=3,\n",
       "                           gamma='auto_deprecated', kernel='rbf', max_iter=-1,\n",
       "                           probability=False, random_state=None, shrinking=True,\n",
       "                           tol=0.001, verbose=False),\n",
       "             iid='warn', n_jobs=None,\n",
       "             param_grid=[{'C': [1, 10, 100, 1000], 'gamma': [0.001, 0.0001],\n",
       "                          'kernel': ['rbf']},\n",
       "                         {'C': [1, 10, 100, 1000], 'kernel': ['linear']}],\n",
       "             pre_dispatch='2*n_jobs', refit=True, return_train_score=False,\n",
       "             scoring='recall_macro', verbose=0)"
      ]
     },
     "execution_count": 60,
     "metadata": {},
     "output_type": "execute_result"
    }
   ],
   "source": [
    "clf_svc_decom_ds.fit(train_x_decom_ds, train_y_decom_ds)"
   ]
  },
  {
   "cell_type": "code",
   "execution_count": 61,
   "metadata": {},
   "outputs": [
    {
     "name": "stdout",
     "output_type": "stream",
     "text": [
      "              precision    recall  f1-score   support\n",
      "\n",
      "         0.0       0.59      0.73      0.65      1585\n",
      "         1.0       0.78      0.65      0.71      2341\n",
      "\n",
      "    accuracy                           0.68      3926\n",
      "   macro avg       0.68      0.69      0.68      3926\n",
      "weighted avg       0.70      0.68      0.69      3926\n",
      "\n"
     ]
    }
   ],
   "source": [
    "print(classification_report(clf_svc_decom_ds.predict(train_x_decom_ds), train_y_decom_ds))"
   ]
  },
  {
   "cell_type": "code",
   "execution_count": 62,
   "metadata": {},
   "outputs": [
    {
     "name": "stdout",
     "output_type": "stream",
     "text": [
      "              precision    recall  f1-score   support\n",
      "\n",
      "         0.0       0.55      0.68      0.61       518\n",
      "         1.0       0.67      0.54      0.60       625\n",
      "\n",
      "    accuracy                           0.61      1143\n",
      "   macro avg       0.61      0.61      0.61      1143\n",
      "weighted avg       0.62      0.61      0.60      1143\n",
      "\n"
     ]
    }
   ],
   "source": [
    "print(classification_report(clf_svc_decom_ds.predict(test_x_decom), test_y_decom))"
   ]
  },
  {
   "cell_type": "code",
   "execution_count": 77,
   "metadata": {},
   "outputs": [
    {
     "data": {
      "text/plain": [
       "['clf_svc_decom_ds.joblib']"
      ]
     },
     "execution_count": 77,
     "metadata": {},
     "output_type": "execute_result"
    }
   ],
   "source": [
    "joblib.dump(clf_svc_decom_ds, 'clf_svc_decom_ds.joblib')"
   ]
  },
  {
   "cell_type": "markdown",
   "metadata": {},
   "source": [
    "# 予測対象を絞ってみる\n",
    "\n",
    "- いまは全データをやっている\n",
    "- しかし、クリック数が少ない時は、予測がし辛いのでは？"
   ]
  },
  {
   "cell_type": "code",
   "execution_count": 64,
   "metadata": {},
   "outputs": [],
   "source": [
    "user_click_num = numpy.sum(x, axis=1)"
   ]
  },
  {
   "cell_type": "code",
   "execution_count": 67,
   "metadata": {},
   "outputs": [
    {
     "name": "stdout",
     "output_type": "stream",
     "text": [
      "              precision    recall  f1-score   support\n",
      "\n",
      "         0.0       0.77      0.85      0.81       984\n",
      "         1.0       0.79      0.69      0.74       810\n",
      "\n",
      "    accuracy                           0.78      1794\n",
      "   macro avg       0.78      0.77      0.77      1794\n",
      "weighted avg       0.78      0.78      0.77      1794\n",
      "\n"
     ]
    }
   ],
   "source": [
    "print(classification_report(clf_svc_decom_ds.predict(x_decom[numpy.where(user_click_num >= 10)]), y[numpy.where(user_click_num >= 10)]))"
   ]
  },
  {
   "cell_type": "code",
   "execution_count": 68,
   "metadata": {},
   "outputs": [
    {
     "name": "stdout",
     "output_type": "stream",
     "text": [
      "              precision    recall  f1-score   support\n",
      "\n",
      "         0.0       0.42      0.68      0.52       971\n",
      "         1.0       0.76      0.52      0.62      1882\n",
      "\n",
      "    accuracy                           0.58      2853\n",
      "   macro avg       0.59      0.60      0.57      2853\n",
      "weighted avg       0.65      0.58      0.59      2853\n",
      "\n"
     ]
    }
   ],
   "source": [
    "print(classification_report(clf_svc_decom_ds.predict(x_decom[numpy.where(user_click_num < 5)]), y[numpy.where(user_click_num < 5)]))"
   ]
  },
  {
   "cell_type": "code",
   "execution_count": null,
   "metadata": {},
   "outputs": [],
   "source": []
  },
  {
   "cell_type": "code",
   "execution_count": 69,
   "metadata": {},
   "outputs": [],
   "source": [
    "train_x_decom_clk, test_x_decom_clk, train_y_decom_clk, test_y_decom_clk = train_test_split(x_decom[numpy.where(user_click_num >= 10)], y[numpy.where(user_click_num >= 10)], test_size=0.2, random_state=23)"
   ]
  },
  {
   "cell_type": "code",
   "execution_count": 71,
   "metadata": {},
   "outputs": [],
   "source": [
    "clf_svc_decom_clk = GridSearchCV( SVC() , parameters, cv=3, scoring='recall_macro')"
   ]
  },
  {
   "cell_type": "code",
   "execution_count": 72,
   "metadata": {},
   "outputs": [
    {
     "data": {
      "text/plain": [
       "GridSearchCV(cv=3, error_score='raise-deprecating',\n",
       "             estimator=SVC(C=1.0, cache_size=200, class_weight=None, coef0=0.0,\n",
       "                           decision_function_shape='ovr', degree=3,\n",
       "                           gamma='auto_deprecated', kernel='rbf', max_iter=-1,\n",
       "                           probability=False, random_state=None, shrinking=True,\n",
       "                           tol=0.001, verbose=False),\n",
       "             iid='warn', n_jobs=None,\n",
       "             param_grid=[{'C': [1, 10, 100, 1000], 'gamma': [0.001, 0.0001],\n",
       "                          'kernel': ['rbf']},\n",
       "                         {'C': [1, 10, 100, 1000], 'kernel': ['linear']}],\n",
       "             pre_dispatch='2*n_jobs', refit=True, return_train_score=False,\n",
       "             scoring='recall_macro', verbose=0)"
      ]
     },
     "execution_count": 72,
     "metadata": {},
     "output_type": "execute_result"
    }
   ],
   "source": [
    "clf_svc_decom_clk.fit(train_x_decom_clk, train_y_decom_clk)"
   ]
  },
  {
   "cell_type": "code",
   "execution_count": 73,
   "metadata": {},
   "outputs": [
    {
     "name": "stdout",
     "output_type": "stream",
     "text": [
      "              precision    recall  f1-score   support\n",
      "\n",
      "         0.0       0.89      0.83      0.86       926\n",
      "         1.0       0.72      0.82      0.76       509\n",
      "\n",
      "    accuracy                           0.82      1435\n",
      "   macro avg       0.81      0.82      0.81      1435\n",
      "weighted avg       0.83      0.82      0.82      1435\n",
      "\n"
     ]
    }
   ],
   "source": [
    "print(classification_report(clf_svc_decom_clk.predict(train_x_decom_clk), train_y_decom_clk))"
   ]
  },
  {
   "cell_type": "code",
   "execution_count": 74,
   "metadata": {},
   "outputs": [
    {
     "name": "stdout",
     "output_type": "stream",
     "text": [
      "              precision    recall  f1-score   support\n",
      "\n",
      "         0.0       0.83      0.78      0.81       237\n",
      "         1.0       0.62      0.69      0.65       122\n",
      "\n",
      "    accuracy                           0.75       359\n",
      "   macro avg       0.73      0.74      0.73       359\n",
      "weighted avg       0.76      0.75      0.75       359\n",
      "\n"
     ]
    }
   ],
   "source": [
    "print(classification_report(clf_svc_decom_clk.predict(test_x_decom_clk), test_y_decom_clk))"
   ]
  },
  {
   "cell_type": "code",
   "execution_count": 75,
   "metadata": {},
   "outputs": [
    {
     "data": {
      "text/plain": [
       "['clf_svc_decom_clk.joblib']"
      ]
     },
     "execution_count": 75,
     "metadata": {},
     "output_type": "execute_result"
    }
   ],
   "source": [
    "joblib.dump(clf_svc_decom_clk, 'clf_svc_decom_clk.joblib')"
   ]
  },
  {
   "cell_type": "markdown",
   "metadata": {},
   "source": [
    "# 次元削減する時点で、データを絞ってみる"
   ]
  },
  {
   "cell_type": "code",
   "execution_count": null,
   "metadata": {},
   "outputs": [],
   "source": []
  },
  {
   "cell_type": "code",
   "execution_count": null,
   "metadata": {},
   "outputs": [],
   "source": []
  },
  {
   "cell_type": "code",
   "execution_count": 188,
   "metadata": {},
   "outputs": [],
   "source": [
    "x_clk = x[numpy.where(user_click_num >= 10)]\n",
    "y_clk = y[numpy.where(user_click_num >= 10)]"
   ]
  },
  {
   "cell_type": "code",
   "execution_count": 185,
   "metadata": {},
   "outputs": [],
   "source": [
    "model_clk = NMF(n_components=300)"
   ]
  },
  {
   "cell_type": "code",
   "execution_count": 189,
   "metadata": {},
   "outputs": [],
   "source": [
    "x_clk_decom = model_clk.fit_transform(x_clk)"
   ]
  },
  {
   "cell_type": "code",
   "execution_count": 190,
   "metadata": {},
   "outputs": [],
   "source": [
    "train_x_clk_decom, test_x_clk_decom, train_y_clk_decom, test_y_clk_decom = train_test_split(x_clk_decom, y_clk, test_size=0.2, random_state=23)"
   ]
  },
  {
   "cell_type": "code",
   "execution_count": 191,
   "metadata": {},
   "outputs": [],
   "source": [
    "clf_lr_clk_decom = LogisticRegression(solver='lbfgs')"
   ]
  },
  {
   "cell_type": "code",
   "execution_count": 192,
   "metadata": {},
   "outputs": [
    {
     "data": {
      "text/plain": [
       "{'fit_time': array([0.03401017, 0.02101588, 0.03772116]),\n",
       " 'score_time': array([0.005198  , 0.00380397, 0.00357699]),\n",
       " 'test_accuracy': array([0.60751566, 0.62343096, 0.61924686]),\n",
       " 'test_precision': array([0.54761905, 0.65789474, 0.72727273]),\n",
       " 'test_recall': array([0.11979167, 0.13020833, 0.08333333])}"
      ]
     },
     "execution_count": 192,
     "metadata": {},
     "output_type": "execute_result"
    }
   ],
   "source": [
    "cross_validate(clf_lr_clk_decom, train_x_clk_decom, train_y_clk_decom, cv=3, scoring=['accuracy', 'precision', 'recall'])"
   ]
  },
  {
   "cell_type": "code",
   "execution_count": 194,
   "metadata": {},
   "outputs": [],
   "source": [
    "df_train_clk_decom = pandas.DataFrame(train_x_clk_decom)\n",
    "df_train_clk_decom['gender_id'] = train_y_clk_decom\n",
    "df_train_clk_decom_male = df_train_clk_decom[df_train_clk_decom['gender_id'] == 0]\n",
    "df_train_clk_decom_female = df_train_clk_decom[df_train_clk_decom['gender_id'] == 1]\n",
    "df_train_clk_decom_male = df_train_clk_decom_male.take(numpy.random.permutation(len(df_train_clk_decom_male)))\n",
    "df_train_clk_decom_male = df_train_clk_decom_male.iloc[:len(df_train_clk_decom_female), :].reset_index(drop = True)\n",
    "df_train_clk_decom_ds = pandas.concat([df_train_clk_decom_male, df_train_clk_decom_female])"
   ]
  },
  {
   "cell_type": "code",
   "execution_count": 196,
   "metadata": {},
   "outputs": [],
   "source": [
    "train_x_clk_decom_ds = df_train_clk_decom_ds[df_train_clk_decom_ds.columns[:-1]].values\n",
    "train_y_clk_decom_ds = df_train_clk_decom_ds['gender_id'].values"
   ]
  },
  {
   "cell_type": "code",
   "execution_count": 197,
   "metadata": {},
   "outputs": [],
   "source": [
    "clf_lr_clk_decom_ds = LogisticRegression(solver='lbfgs')"
   ]
  },
  {
   "cell_type": "code",
   "execution_count": 198,
   "metadata": {},
   "outputs": [
    {
     "data": {
      "text/plain": [
       "{'fit_time': array([0.0225842 , 0.02065611, 0.01859379]),\n",
       " 'score_time': array([0.00286174, 0.00256801, 0.00331807]),\n",
       " 'test_accuracy': array([0.65885417, 0.58333333, 0.59375   ]),\n",
       " 'test_precision': array([0.70748299, 0.56666667, 0.59473684]),\n",
       " 'test_recall': array([0.54166667, 0.70833333, 0.58854167])}"
      ]
     },
     "execution_count": 198,
     "metadata": {},
     "output_type": "execute_result"
    }
   ],
   "source": [
    "cross_validate(clf_lr_clk_decom_ds, train_x_clk_decom_ds, train_y_clk_decom_ds, cv=3, scoring=['accuracy', 'precision', 'recall'])"
   ]
  },
  {
   "cell_type": "code",
   "execution_count": 199,
   "metadata": {},
   "outputs": [
    {
     "data": {
      "text/plain": [
       "LogisticRegression(C=1.0, class_weight=None, dual=False, fit_intercept=True,\n",
       "                   intercept_scaling=1, l1_ratio=None, max_iter=100,\n",
       "                   multi_class='warn', n_jobs=None, penalty='l2',\n",
       "                   random_state=None, solver='lbfgs', tol=0.0001, verbose=0,\n",
       "                   warm_start=False)"
      ]
     },
     "execution_count": 199,
     "metadata": {},
     "output_type": "execute_result"
    }
   ],
   "source": [
    "clf_lr_clk_decom_ds.fit(train_x_clk_decom_ds, train_y_clk_decom_ds)"
   ]
  },
  {
   "cell_type": "code",
   "execution_count": 200,
   "metadata": {},
   "outputs": [
    {
     "name": "stdout",
     "output_type": "stream",
     "text": [
      "              precision    recall  f1-score   support\n",
      "\n",
      "         0.0       0.44      0.60      0.51       163\n",
      "         1.0       0.52      0.36      0.42       196\n",
      "\n",
      "    accuracy                           0.47       359\n",
      "   macro avg       0.48      0.48      0.46       359\n",
      "weighted avg       0.48      0.47      0.46       359\n",
      "\n"
     ]
    }
   ],
   "source": [
    "print(classification_report(clf_lr.predict(test_x_clk_decom), test_y_clk_decom))"
   ]
  },
  {
   "cell_type": "code",
   "execution_count": null,
   "metadata": {},
   "outputs": [],
   "source": []
  },
  {
   "cell_type": "markdown",
   "metadata": {},
   "source": [
    "# まとめ\n",
    "\n",
    "- ベクトル表現にして予測\n",
    "- 次元削減すると、精度下がった\n",
    "     - 予測結果の偏りが発生\n",
    "     - 疎でなくなった分、偏りの影響が大きくなった？\n",
    "- ダウンサンプリングすると精度上がった\n",
    "- クリック数が高いユーザの精度が高い\n",
    "- クリック数が高いユーザに絞って学習すると精度があがる\n",
    "- クリック数が高いユーザに絞って次元削減してから学習すると精度が下がる\n",
    "     - 次元削減のような全体の傾向が必要な場合は絞らないほうが良かった"
   ]
  },
  {
   "cell_type": "code",
   "execution_count": null,
   "metadata": {},
   "outputs": [],
   "source": []
  }
 ],
 "metadata": {
  "kernelspec": {
   "display_name": "Python 3",
   "language": "python",
   "name": "python3"
  },
  "language_info": {
   "codemirror_mode": {
    "name": "ipython",
    "version": 3
   },
   "file_extension": ".py",
   "mimetype": "text/x-python",
   "name": "python",
   "nbconvert_exporter": "python",
   "pygments_lexer": "ipython3",
   "version": "3.7.7"
  }
 },
 "nbformat": 4,
 "nbformat_minor": 2
}
